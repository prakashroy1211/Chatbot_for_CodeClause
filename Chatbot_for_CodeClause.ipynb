{
 "cells": [
  {
   "cell_type": "code",
   "execution_count": null,
   "id": "184267ad",
   "metadata": {},
   "outputs": [],
   "source": [
    "def codeclause_chatbot():\n",
    "    print(\"Hello! I am CodeBot. Type 'exit' to end the conversation.\")\n",
    "    while True:\n",
    "        user_input = input(\"You: \").lower()\n",
    "        if user_input == \"exit\":\n",
    "            print(\"CodeBot: Goodbye!\")\n",
    "            break\n",
    "        response = get_response(user_input)\n",
    "        print(\"CodeBot:\", response)\n",
    "\n",
    "\n",
    "def get_response(user_input):\n",
    "    # Dictionary of predefined responses\n",
    "    responses = {\n",
    "        \"hello\": \"Hi there!\",\n",
    "        \"how are you\": \"I'm just a bot, but I'm doing fine, thanks!\",\n",
    "        \"what is your name\": \"I am CodeBot, your chat assistant from CodeClause.\",\n",
    "        \"what is the time\": \"I don't have the ability to tell the time yet.\",\n",
    "        \"goodbye\": \"Goodbye! Have a great day!\",\n",
    "        \"contact\": \"Website: www.codeclause.com. Location: 401, Shreenath Complex Vadgaon Pune India-41. Email: info@codeclause.com, official@codeclause.com. Call: +91 7030020973\",\n",
    "        \"CodeClause\": \"Welcome to CodeClause, We are a trusted Software Development and IT Services, combining deep technical expertise and industry experience to help our clients anticipate what’s next and answer questions before they’re asked. Our offerings and proven solutions create unique competitive advantage for our clients by giving them the power to see beyond and rise above.\",\n",
    "        \n",
    "    }\n",
    "\n",
    "    # Check if the user input matches any predefined responses\n",
    "    for pattern, response in responses.items():\n",
    "        if pattern in user_input:\n",
    "            return response\n",
    "\n",
    "    # If no predefined response matches, provide a default response\n",
    "    return \"I'm sorry, I don't understand that. Can you please try again?\"\n",
    "\n",
    "if __name__ == \"__main__\":\n",
    "    codeclause_chatbot()\n"
   ]
  },
  {
   "cell_type": "code",
   "execution_count": null,
   "id": "953c8198",
   "metadata": {},
   "outputs": [],
   "source": []
  }
 ],
 "metadata": {
  "kernelspec": {
   "display_name": "Python 3 (ipykernel)",
   "language": "python",
   "name": "python3"
  },
  "language_info": {
   "codemirror_mode": {
    "name": "ipython",
    "version": 3
   },
   "file_extension": ".py",
   "mimetype": "text/x-python",
   "name": "python",
   "nbconvert_exporter": "python",
   "pygments_lexer": "ipython3",
   "version": "3.10.9"
  }
 },
 "nbformat": 4,
 "nbformat_minor": 5
}
